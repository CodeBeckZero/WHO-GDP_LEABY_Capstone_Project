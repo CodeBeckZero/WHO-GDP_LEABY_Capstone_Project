{
 "cells": [
  {
   "cell_type": "markdown",
   "metadata": {},
   "source": [
    "# Executive Summary\n",
    "\n",
    "The World Health Organization (WHO) has provided a dataset from 2005 to 2015 with life expectancies and Gross Domestic Production (GDP) for Chile, China, Germany, Mexico, United States of America and Zimbabwe. The report seeks to find any relationship between the GDP and the life expectancies of the aftermentioned countries. The data seems to support that lower values of life expectancy are more sensetive to changes in GDP. All countries except China, before 2006, and Zimbabwe do show positive correlation between changes in GDP and changes in expected life expectancy. Each country show their own rate of the correlation, likely due to each country's specific circumstances. "
   ]
  },
  {
   "cell_type": "markdown",
   "metadata": {},
   "source": [
    "# Introduction\n",
    "\n",
    "For this project, you will act as a data researcher for the World Health Organization. You will investigate if there is a strong correlation between the economic output of a country and the life expectancy of its citizens.\n",
    "\n",
    "During this project, you will analyze, prepare, and plot data, and seek to answer questions in a meaningful way.\n",
    "\n",
    "After you perform analysis, you'll be creating an article with your visualizations to be featured in the fictional \"Time Magazine\".\n",
    "\n",
    "Focusing Questions:\n",
    "\n",
    "    Has life expectancy increased over time in the six nations?\n",
    "    Has GDP increased over time in the six nations?\n",
    "    Is there a correlation between GDP and life expectancy of a country?\n",
    "    What is the average life expactancy in these nations?\n",
    "    What is the distribution of that life expectancy?\n",
    "\n",
    "GDP Source:World Banknational accounts data, and OECD National Accounts data files.\n",
    "\n",
    "Life expectancy Data Source: World Health Organization\n"
   ]
  },
  {
   "cell_type": "markdown",
   "metadata": {},
   "source": [
    "# Procedure"
   ]
  },
  {
   "cell_type": "markdown",
   "metadata": {},
   "source": [
    "## Step 1:  Import Required Python Modules"
   ]
  },
  {
   "cell_type": "markdown",
   "metadata": {},
   "source": [
    "Import the modules that you'll be using in this project:\n",
    "\n",
    "    from matplotlib import pyplot as plt\n",
    "    import pandas as pd\n",
    "    import seaborn as sns\n",
    "\n"
   ]
  },
  {
   "cell_type": "code",
   "execution_count": 76,
   "metadata": {
    "ExecuteTime": {
     "end_time": "2020-06-06T13:30:04.900419Z",
     "start_time": "2020-06-06T13:30:04.895433Z"
    }
   },
   "outputs": [],
   "source": [
    "from matplotlib import pyplot as plt\n",
    "from IPython.display import display, HTML\n",
    "import pandas as pd\n",
    "import seaborn as sns\n",
    "\n",
    "class color:\n",
    "   PURPLE = '\\033[95m'\n",
    "   CYAN = '\\033[96m'\n",
    "   DARKCYAN = '\\033[36m'\n",
    "   BLUE = '\\033[94m'\n",
    "   GREEN = '\\033[92m'\n",
    "   YELLOW = '\\033[93m'\n",
    "   RED = '\\033[91m'\n",
    "   BOLD = '\\033[1m'\n",
    "   UNDERLINE = '\\033[4m'\n",
    "   END = '\\033[0m'\n"
   ]
  },
  {
   "cell_type": "markdown",
   "metadata": {},
   "source": [
    "## Step 2: Prep The Data"
   ]
  },
  {
   "cell_type": "markdown",
   "metadata": {},
   "source": [
    "To look for connections between GDP and life expectancy you will need to load the datasets into DataFrames so that they can be visualized.\n",
    "\n",
    "Load all_data.csv into a DataFrame called df. Then, quickly inspect the DataFrame using .head().\n",
    "\n",
    "Hint: Use pd.read_csv()\n"
   ]
  },
  {
   "cell_type": "code",
   "execution_count": 77,
   "metadata": {
    "ExecuteTime": {
     "end_time": "2020-06-06T13:30:04.914409Z",
     "start_time": "2020-06-06T13:30:04.901417Z"
    }
   },
   "outputs": [],
   "source": [
    "df = pd.read_csv('all_data.csv')"
   ]
  },
  {
   "cell_type": "markdown",
   "metadata": {},
   "source": [
    "## Step 3: Examine the Data"
   ]
  },
  {
   "cell_type": "markdown",
   "metadata": {},
   "source": [
    "The datasets are large and it may be easier to view the entire dataset locally on your computer. You can open the CSV files directly from the folder you downloaded for this project.\n",
    "\n",
    "Let's learn more about our data:\n",
    "\n",
    "    GDP stands for Gross Domestic Product. GDP is a monetary measure of the market value of all final goods and services produced in a time period.\n",
    "    The GDP values are in current US dollars.\n",
    "\n"
   ]
  },
  {
   "cell_type": "code",
   "execution_count": 78,
   "metadata": {
    "ExecuteTime": {
     "end_time": "2020-06-06T13:30:04.937322Z",
     "start_time": "2020-06-06T13:30:04.916377Z"
    }
   },
   "outputs": [
    {
     "name": "stdout",
     "output_type": "stream",
     "text": [
      "\u001b[94mChecking dataframe size:\u001b[0m\n",
      "Country                             96\n",
      "Year                                96\n",
      "Life expectancy at birth (years)    96\n",
      "GDP                                 96\n",
      "dtype: int64\n",
      "\n",
      "\u001b[94mChecking datatypes:\u001b[0m\n",
      "Country                              object\n",
      "Year                                  int64\n",
      "Life expectancy at birth (years)    float64\n",
      "GDP                                 float64\n",
      "dtype: object\n",
      "\n",
      "\u001b[94mChecking data format:\u001b[0m\n",
      "\n"
     ]
    },
    {
     "data": {
      "text/html": [
       "<div>\n",
       "<style scoped>\n",
       "    .dataframe tbody tr th:only-of-type {\n",
       "        vertical-align: middle;\n",
       "    }\n",
       "\n",
       "    .dataframe tbody tr th {\n",
       "        vertical-align: top;\n",
       "    }\n",
       "\n",
       "    .dataframe thead th {\n",
       "        text-align: right;\n",
       "    }\n",
       "</style>\n",
       "<table border=\"1\" class=\"dataframe\">\n",
       "  <thead>\n",
       "    <tr style=\"text-align: right;\">\n",
       "      <th></th>\n",
       "      <th>Country</th>\n",
       "      <th>Year</th>\n",
       "      <th>Life expectancy at birth (years)</th>\n",
       "      <th>GDP</th>\n",
       "    </tr>\n",
       "  </thead>\n",
       "  <tbody>\n",
       "    <tr>\n",
       "      <th>0</th>\n",
       "      <td>Chile</td>\n",
       "      <td>2000</td>\n",
       "      <td>77.3</td>\n",
       "      <td>7.786093e+10</td>\n",
       "    </tr>\n",
       "    <tr>\n",
       "      <th>1</th>\n",
       "      <td>Chile</td>\n",
       "      <td>2001</td>\n",
       "      <td>77.3</td>\n",
       "      <td>7.097992e+10</td>\n",
       "    </tr>\n",
       "    <tr>\n",
       "      <th>2</th>\n",
       "      <td>Chile</td>\n",
       "      <td>2002</td>\n",
       "      <td>77.8</td>\n",
       "      <td>6.973681e+10</td>\n",
       "    </tr>\n",
       "    <tr>\n",
       "      <th>3</th>\n",
       "      <td>Chile</td>\n",
       "      <td>2003</td>\n",
       "      <td>77.9</td>\n",
       "      <td>7.564346e+10</td>\n",
       "    </tr>\n",
       "    <tr>\n",
       "      <th>4</th>\n",
       "      <td>Chile</td>\n",
       "      <td>2004</td>\n",
       "      <td>78.0</td>\n",
       "      <td>9.921039e+10</td>\n",
       "    </tr>\n",
       "  </tbody>\n",
       "</table>\n",
       "</div>"
      ],
      "text/plain": [
       "  Country  Year  Life expectancy at birth (years)           GDP\n",
       "0   Chile  2000                              77.3  7.786093e+10\n",
       "1   Chile  2001                              77.3  7.097992e+10\n",
       "2   Chile  2002                              77.8  6.973681e+10\n",
       "3   Chile  2003                              77.9  7.564346e+10\n",
       "4   Chile  2004                              78.0  9.921039e+10"
      ]
     },
     "metadata": {},
     "output_type": "display_data"
    },
    {
     "name": "stdout",
     "output_type": "stream",
     "text": [
      "\n",
      "\u001b[94mIdentified Category Column, checking unique COUNTRY entries:\u001b[0m\n",
      "['Chile' 'China' 'Germany' 'Mexico' 'United States of America' 'Zimbabwe']\n",
      "\n",
      "\u001b[94mIdentified Category Column, checking unique YEAR entries:\u001b[0m\n",
      "[2000 2001 2002 2003 2004 2005 2006 2007 2008 2009 2010 2011 2012 2013\n",
      " 2014 2015]\n",
      "\n",
      "\u001b[94mChecking missing entries:\u001b[0m\n",
      "Empty DataFrame\n",
      "Columns: [Country, Year, Life expectancy at birth (years), GDP]\n",
      "Index: []\n",
      "\n",
      "\u001b[94mNumber of rows check out:\u001b[0m\n",
      "True\n"
     ]
    }
   ],
   "source": [
    "print(color.BLUE + \"Checking dataframe size:\" + color.END + \"\\n\",df.count(), sep = '') #Checking dataframe size\n",
    "print(\"\\n\" + color.BLUE + \"Checking datatypes:\" + color.END + \"\\n\",df.dtypes, sep = '') #Checking datatypes\n",
    "print(\"\\n\" + color.BLUE + \"Checking data format:\" + color.END + \"\\n\")\n",
    "display(df.head(5)) #Checking data format\n",
    "print(\"\\n\" + color.BLUE + \"Identified Category Column, checking unique COUNTRY entries:\" + color.END+ \"\\n\", df.Country.unique(), sep = '') #Identified Category Column, checking unique entries\n",
    "print(\"\\n\" + color.BLUE + \"Identified Category Column, checking unique YEAR entries:\" + color.END+ \"\\n\", df.Year.unique(), sep = '') #Identified Category Column, checking unique entries\n",
    "null_data = df[df.isnull().any(axis=1)] #Checking missing entries\n",
    "print(\"\\n\" + color.BLUE + \"Checking missing entries:\" + color.END+ \"\\n\", null_data, sep = '')\n",
    "exp_of_rows = df.Country.nunique() * df.Year.nunique() == 96 #Checking missing rows\n",
    "print(\"\\n\" + color.BLUE + \"Number of rows check out:\" + color.END+ \"\\n\", exp_of_rows, sep = '')\n",
    "               \n"
   ]
  },
  {
   "cell_type": "markdown",
   "metadata": {},
   "source": [
    "#### What six countries are represented in the data?"
   ]
  },
  {
   "cell_type": "markdown",
   "metadata": {},
   "source": [
    "Chile, China, Germany, Mexico, United States of America and Zimbabwe are represented in the dataset"
   ]
  },
  {
   "cell_type": "markdown",
   "metadata": {},
   "source": [
    "#### What years are represented in the data?"
   ]
  },
  {
   "cell_type": "markdown",
   "metadata": {},
   "source": [
    "All countires have a complete dataset from the year 2000 to 2015."
   ]
  },
  {
   "cell_type": "markdown",
   "metadata": {},
   "source": [
    "## Step 4: Tweak the DataFrame"
   ]
  },
  {
   "cell_type": "markdown",
   "metadata": {},
   "source": [
    "Look at the column names of the DataFrame df using .head(). \n",
    "What do you notice? The first two column names are one word each, and the third is five words long! Life expectancy at birth (years) is descriptive, which will be good for labeling the axis, but a little difficult to wrangle for coding the plot itself.\n",
    "\n",
    "Revise The DataFrame Part A:\n",
    "\n",
    "Use Pandas to change the name of the last column to LEABY.\n",
    "\n",
    "Hint: Use .rename()\n",
    "\n",
    "Run df.head() again to check your new column name worked\n"
   ]
  },
  {
   "cell_type": "code",
   "execution_count": 79,
   "metadata": {
    "ExecuteTime": {
     "end_time": "2020-06-06T13:30:04.957305Z",
     "start_time": "2020-06-06T13:30:04.939319Z"
    }
   },
   "outputs": [
    {
     "name": "stdout",
     "output_type": "stream",
     "text": [
      "\n",
      "\u001b[94mColumn names:\u001b[0m\n",
      "\n"
     ]
    },
    {
     "data": {
      "text/html": [
       "<div>\n",
       "<style scoped>\n",
       "    .dataframe tbody tr th:only-of-type {\n",
       "        vertical-align: middle;\n",
       "    }\n",
       "\n",
       "    .dataframe tbody tr th {\n",
       "        vertical-align: top;\n",
       "    }\n",
       "\n",
       "    .dataframe thead th {\n",
       "        text-align: right;\n",
       "    }\n",
       "</style>\n",
       "<table border=\"1\" class=\"dataframe\">\n",
       "  <thead>\n",
       "    <tr style=\"text-align: right;\">\n",
       "      <th></th>\n",
       "      <th>Country</th>\n",
       "      <th>Year</th>\n",
       "      <th>Life expectancy at birth (years)</th>\n",
       "      <th>GDP</th>\n",
       "    </tr>\n",
       "  </thead>\n",
       "  <tbody>\n",
       "    <tr>\n",
       "      <th>0</th>\n",
       "      <td>Chile</td>\n",
       "      <td>2000</td>\n",
       "      <td>77.3</td>\n",
       "      <td>7.786093e+10</td>\n",
       "    </tr>\n",
       "    <tr>\n",
       "      <th>1</th>\n",
       "      <td>Chile</td>\n",
       "      <td>2001</td>\n",
       "      <td>77.3</td>\n",
       "      <td>7.097992e+10</td>\n",
       "    </tr>\n",
       "    <tr>\n",
       "      <th>2</th>\n",
       "      <td>Chile</td>\n",
       "      <td>2002</td>\n",
       "      <td>77.8</td>\n",
       "      <td>6.973681e+10</td>\n",
       "    </tr>\n",
       "    <tr>\n",
       "      <th>3</th>\n",
       "      <td>Chile</td>\n",
       "      <td>2003</td>\n",
       "      <td>77.9</td>\n",
       "      <td>7.564346e+10</td>\n",
       "    </tr>\n",
       "    <tr>\n",
       "      <th>4</th>\n",
       "      <td>Chile</td>\n",
       "      <td>2004</td>\n",
       "      <td>78.0</td>\n",
       "      <td>9.921039e+10</td>\n",
       "    </tr>\n",
       "  </tbody>\n",
       "</table>\n",
       "</div>"
      ],
      "text/plain": [
       "  Country  Year  Life expectancy at birth (years)           GDP\n",
       "0   Chile  2000                              77.3  7.786093e+10\n",
       "1   Chile  2001                              77.3  7.097992e+10\n",
       "2   Chile  2002                              77.8  6.973681e+10\n",
       "3   Chile  2003                              77.9  7.564346e+10\n",
       "4   Chile  2004                              78.0  9.921039e+10"
      ]
     },
     "metadata": {},
     "output_type": "display_data"
    },
    {
     "name": "stdout",
     "output_type": "stream",
     "text": [
      "\n",
      "\u001b[94mColumn renamed:\u001b[0m\n",
      "\n"
     ]
    },
    {
     "data": {
      "text/html": [
       "<div>\n",
       "<style scoped>\n",
       "    .dataframe tbody tr th:only-of-type {\n",
       "        vertical-align: middle;\n",
       "    }\n",
       "\n",
       "    .dataframe tbody tr th {\n",
       "        vertical-align: top;\n",
       "    }\n",
       "\n",
       "    .dataframe thead th {\n",
       "        text-align: right;\n",
       "    }\n",
       "</style>\n",
       "<table border=\"1\" class=\"dataframe\">\n",
       "  <thead>\n",
       "    <tr style=\"text-align: right;\">\n",
       "      <th></th>\n",
       "      <th>Country</th>\n",
       "      <th>Year</th>\n",
       "      <th>LEABY</th>\n",
       "      <th>GDP</th>\n",
       "    </tr>\n",
       "  </thead>\n",
       "  <tbody>\n",
       "    <tr>\n",
       "      <th>0</th>\n",
       "      <td>Chile</td>\n",
       "      <td>2000</td>\n",
       "      <td>77.3</td>\n",
       "      <td>7.786093e+10</td>\n",
       "    </tr>\n",
       "    <tr>\n",
       "      <th>1</th>\n",
       "      <td>Chile</td>\n",
       "      <td>2001</td>\n",
       "      <td>77.3</td>\n",
       "      <td>7.097992e+10</td>\n",
       "    </tr>\n",
       "    <tr>\n",
       "      <th>2</th>\n",
       "      <td>Chile</td>\n",
       "      <td>2002</td>\n",
       "      <td>77.8</td>\n",
       "      <td>6.973681e+10</td>\n",
       "    </tr>\n",
       "    <tr>\n",
       "      <th>3</th>\n",
       "      <td>Chile</td>\n",
       "      <td>2003</td>\n",
       "      <td>77.9</td>\n",
       "      <td>7.564346e+10</td>\n",
       "    </tr>\n",
       "    <tr>\n",
       "      <th>4</th>\n",
       "      <td>Chile</td>\n",
       "      <td>2004</td>\n",
       "      <td>78.0</td>\n",
       "      <td>9.921039e+10</td>\n",
       "    </tr>\n",
       "  </tbody>\n",
       "</table>\n",
       "</div>"
      ],
      "text/plain": [
       "  Country  Year  LEABY           GDP\n",
       "0   Chile  2000   77.3  7.786093e+10\n",
       "1   Chile  2001   77.3  7.097992e+10\n",
       "2   Chile  2002   77.8  6.973681e+10\n",
       "3   Chile  2003   77.9  7.564346e+10\n",
       "4   Chile  2004   78.0  9.921039e+10"
      ]
     },
     "metadata": {},
     "output_type": "display_data"
    }
   ],
   "source": [
    "print(\"\\n\" + color.BLUE + \"Column names:\" + color.END + \"\\n\")\n",
    "display(df.head(5))\n",
    "df.rename(columns={\"Life expectancy at birth (years)\":\"LEABY\"}, inplace=True, errors=\"raise\")\n",
    "print(\"\\n\" + color.BLUE + \"Column renamed:\" + color.END + \"\\n\")\n",
    "display(df.head(5))"
   ]
  },
  {
   "cell_type": "markdown",
   "metadata": {},
   "source": [
    "# Step 5: Bar Charts to compare averages"
   ]
  },
  {
   "cell_type": "markdown",
   "metadata": {},
   "source": [
    "To take a first high level look at both datasets, create a bar chart for each DataFrame:\n",
    "\n",
    "A) Create a bar chart from the data in df using Country on the x-axis and GDP on the y-axis. Remember to plt.show() your chart"
   ]
  },
  {
   "cell_type": "code",
   "execution_count": 80,
   "metadata": {
    "ExecuteTime": {
     "end_time": "2020-06-06T13:30:05.445464Z",
     "start_time": "2020-06-06T13:30:04.958266Z"
    }
   },
   "outputs": [
    {
     "data": {
      "image/png": "[encoded data removed]",
      "text/plain": [
       "<Figure size 864x864 with 1 Axes>"
      ]
     },
     "metadata": {
      "needs_background": "light"
     },
     "output_type": "display_data"
    }
   ],
   "source": [
    "plt.figure(figsize=(12,12))\n",
    "sns.barplot(data=df , x =\"Country\", y =\"GDP\")\n",
    "plt.title(\"Average GDP between 2000-2015\")\n",
    "plt.savefig(\"Bar graph Avg GDP combined.png\")\n",
    "plt.show()\n"
   ]
  },
  {
   "cell_type": "code",
   "execution_count": 81,
   "metadata": {
    "ExecuteTime": {
     "end_time": "2020-06-06T13:30:05.956605Z",
     "start_time": "2020-06-06T13:30:05.447457Z"
    }
   },
   "outputs": [
    {
     "data": {
      "image/png": "[encoded data removed]",
      "text/plain": [
       "<Figure size 864x864 with 1 Axes>"
      ]
     },
     "metadata": {
      "needs_background": "light"
     },
     "output_type": "display_data"
    }
   ],
   "source": [
    "plt.figure(figsize=(12,12))\n",
    "sns.barplot(data=df , x =\"Country\", y =\"LEABY\")\n",
    "plt.title(\"Average Life Expectancy between 2000-2015, by Country\")\n",
    "plt.savefig(\"Bar graph Avg LEABY combined.png\")\n",
    "plt.show()"
   ]
  },
  {
   "cell_type": "markdown",
   "metadata": {},
   "source": [
    "## Step 6: Violin Plots to Compare Life Expectancy Distributions"
   ]
  },
  {
   "cell_type": "markdown",
   "metadata": {},
   "source": [
    "Another way to compare two datasets is to visualize the distributions of each and to look for patterns in the shapes.\n",
    "\n",
    "We have added the code to instantiate a figure with the correct dimmensions to observe detail.\n",
    "\n",
    "    Create an sns.violinplot() for the dataframe df and map Country and LEABY as its respective x and y axes.\n",
    "    Be sure to show your plot"
   ]
  },
  {
   "cell_type": "code",
   "execution_count": 82,
   "metadata": {
    "ExecuteTime": {
     "end_time": "2020-06-06T13:30:06.349833Z",
     "start_time": "2020-06-06T13:30:05.959595Z"
    },
    "scrolled": true
   },
   "outputs": [
    {
     "data": {
      "image/png": "[encoded data removed]",
      "text/plain": [
       "<Figure size 1296x864 with 1 Axes>"
      ]
     },
     "metadata": {
      "needs_background": "light"
     },
     "output_type": "display_data"
    }
   ],
   "source": [
    "sns.set_palette('Spectral')\n",
    "plt.figure(figsize=(18,12))\n",
    "sns.violinplot(data=df, x='Country', y='LEABY')\n",
    "plt.savefig(\"Vio graph LEABY by country.png\")\n",
    "plt.show()"
   ]
  },
  {
   "cell_type": "markdown",
   "metadata": {},
   "source": [
    "#### What do you notice about this distribution? Which country's life expactancy has changed the most?"
   ]
  },
  {
   "cell_type": "markdown",
   "metadata": {},
   "source": []
  },
  {
   "cell_type": "markdown",
   "metadata": {},
   "source": [
    "## Step 7: Bar Plots of GDP and Life Expectancy over time"
   ]
  },
  {
   "cell_type": "markdown",
   "metadata": {
    "ExecuteTime": {
     "end_time": "2020-05-18T18:22:11.856576Z",
     "start_time": "2020-05-18T18:22:11.847601Z"
    }
   },
   "source": [
    "We want to compare the GDPs of the countries over time, in order to get a sense of the relationship between GDP and life expectancy.\n",
    "\n",
    "First, can plot the progession of GDP's over the years by country in a barplot using Seaborn. We have set up a figure with the correct dimensions for your plot. Under that declaration:\n",
    "\n",
    "    Save sns.barplot() to a variable named ax\n",
    "    Chart Country on the x axis, and GDP on the Y axis on the barplot. Hint: ax = sns.barplot(x=\"Country\", y=\"GDP\")\n",
    "    Use the Year as a hue to differentiate the 15 years in our data. Hint: ax = sns.barplot(x=\"Country\", y=\"GDP\", hue=\"Year\", data=df)\n",
    "    Since the names of the countries are long, let's rotate their label by 90 degrees so that they are legible. Use plt.xticks(\"rotation=90\")\n",
    "    Since our GDP is in trillions of US dollars, make sure your Y label reflects that by changing it to \"GDP in Trillions of U.S. Dollars\". Hint: plt.ylabel(\"GDP in Trillions of U.S. Dollars\")\n",
    "    Be sure to show your plot.\n"
   ]
  },
  {
   "cell_type": "code",
   "execution_count": 83,
   "metadata": {
    "ExecuteTime": {
     "end_time": "2020-06-06T13:30:07.170892Z",
     "start_time": "2020-06-06T13:30:06.351794Z"
    }
   },
   "outputs": [
    {
     "data": {
      "image/png": "[encoded data removed]",
      "text/plain": [
       "<Figure size 720x1080 with 1 Axes>"
      ]
     },
     "metadata": {
      "needs_background": "light"
     },
     "output_type": "display_data"
    }
   ],
   "source": [
    "f, ax = plt.subplots(figsize=(10,15))\n",
    "cus = sns.color_palette(['#ffffd9','#edf8b1','#c7e9b4','#7fcdbb', '#41b6c4', '#1d91c0', '#225ea8','#0c2c84'])\n",
    "sns.barplot(data=df , x =\"Country\", y =\"GDP\", hue=\"Year\", palette=cus)\n",
    "plt.xticks(rotation=90)\n",
    "plt.title(\"GDP Between 2000-2015 by Country\")\n",
    "plt.grid(axis='y', which='both', color='black', linestyle='-', linewidth=0.5)\n",
    "plt.ylabel(\"GDP in Trillion of U.S. Dollars\")\n",
    "plt.savefig(\"Bar GDP by Year by Country.png\")\n",
    "plt.show()"
   ]
  },
  {
   "cell_type": "code",
   "execution_count": 84,
   "metadata": {
    "ExecuteTime": {
     "end_time": "2020-06-06T13:30:08.382879Z",
     "start_time": "2020-06-06T13:30:07.172888Z"
    }
   },
   "outputs": [
    {
     "data": {
      "image/png": "[encoded data removed]",
      "text/plain": [
       "<Figure size 720x1080 with 1 Axes>"
      ]
     },
     "metadata": {
      "needs_background": "light"
     },
     "output_type": "display_data"
    }
   ],
   "source": [
    "f, ax = plt.subplots(figsize=(10,15))\n",
    "cus = sns.color_palette(['#ffffd9','#edf8b1','#c7e9b4','#7fcdbb', '#41b6c4', '#1d91c0', '#225ea8','#0c2c84'])\n",
    "sns.barplot(data=df , x =\"Country\", y =\"GDP\", hue=\"Year\", palette=cus)\n",
    "plt.xticks(rotation=90)\n",
    "plt.title(\"GDP Between 2000-2015 by Country\")\n",
    "ax.set(yscale=\"log\")\n",
    "plt.grid(axis='y', which='both', color='black', linestyle='-', linewidth=0.5)\n",
    "plt.ylabel(\"GDP in U.S. Dollars\")\n",
    "plt.savefig(\"Bar Log GDP by Year Country.png\")\n",
    "plt.show()"
   ]
  },
  {
   "cell_type": "code",
   "execution_count": 85,
   "metadata": {
    "ExecuteTime": {
     "end_time": "2020-06-06T13:30:09.246885Z",
     "start_time": "2020-06-06T13:30:08.383841Z"
    }
   },
   "outputs": [
    {
     "data": {
      "image/png": "[encoded data removed]",
      "text/plain": [
       "<Figure size 720x1080 with 1 Axes>"
      ]
     },
     "metadata": {
      "needs_background": "light"
     },
     "output_type": "display_data"
    }
   ],
   "source": [
    "f, ax = plt.subplots(figsize=(10,15))\n",
    "sns.barplot(data=df , x =\"Country\", y =\"LEABY\", hue=\"Year\", palette=cus)\n",
    "plt.xticks(rotation=90)\n",
    "ax.set(ylabel=\"Life expectancy at birth in years\")\n",
    "plt.title(\"Life Expectancy Between 2000-2015 by Country\")\n",
    "plt.grid(axis='y', which='both', color='black', linestyle='-', linewidth=0.5)\n",
    "plt.ylim(40, 85)\n",
    "plt.savefig(\"Bar LEABY by Year Country.png\")\n",
    "plt.show()"
   ]
  },
  {
   "cell_type": "markdown",
   "metadata": {},
   "source": [
    "#### Which countries' bars changes the most?"
   ]
  },
  {
   "cell_type": "code",
   "execution_count": 86,
   "metadata": {
    "ExecuteTime": {
     "end_time": "2020-06-06T13:30:09.337425Z",
     "start_time": "2020-06-06T13:30:09.248878Z"
    }
   },
   "outputs": [
    {
     "name": "stdout",
     "output_type": "stream",
     "text": [
      "\n",
      "\u001b[94mBy GDP_Delta\u001b[0m\n",
      "\n"
     ]
    },
    {
     "data": {
      "text/html": [
       "<div>\n",
       "<style scoped>\n",
       "    .dataframe tbody tr th:only-of-type {\n",
       "        vertical-align: middle;\n",
       "    }\n",
       "\n",
       "    .dataframe tbody tr th {\n",
       "        vertical-align: top;\n",
       "    }\n",
       "\n",
       "    .dataframe thead th {\n",
       "        text-align: right;\n",
       "    }\n",
       "</style>\n",
       "<table border=\"1\" class=\"dataframe\">\n",
       "  <thead>\n",
       "    <tr style=\"text-align: right;\">\n",
       "      <th></th>\n",
       "      <th>Country</th>\n",
       "      <th>GDP_Min</th>\n",
       "      <th>GDP_Max</th>\n",
       "      <th>LEABY_Min</th>\n",
       "      <th>LEABY_Max</th>\n",
       "      <th>GDP_Delta%</th>\n",
       "      <th>LEABY_Delta%</th>\n",
       "    </tr>\n",
       "  </thead>\n",
       "  <tbody>\n",
       "    <tr>\n",
       "      <th>1</th>\n",
       "      <td>China</td>\n",
       "      <td>1.211350e+12</td>\n",
       "      <td>1.106470e+13</td>\n",
       "      <td>71.7</td>\n",
       "      <td>76.1</td>\n",
       "      <td>813.418913</td>\n",
       "      <td>6.136681</td>\n",
       "    </tr>\n",
       "    <tr>\n",
       "      <th>0</th>\n",
       "      <td>Chile</td>\n",
       "      <td>6.973681e+10</td>\n",
       "      <td>2.783840e+11</td>\n",
       "      <td>77.3</td>\n",
       "      <td>80.5</td>\n",
       "      <td>299.192327</td>\n",
       "      <td>4.139715</td>\n",
       "    </tr>\n",
       "    <tr>\n",
       "      <th>5</th>\n",
       "      <td>Zimbabwe</td>\n",
       "      <td>4.415703e+09</td>\n",
       "      <td>1.630467e+10</td>\n",
       "      <td>44.3</td>\n",
       "      <td>60.7</td>\n",
       "      <td>269.242871</td>\n",
       "      <td>37.020316</td>\n",
       "    </tr>\n",
       "    <tr>\n",
       "      <th>2</th>\n",
       "      <td>Germany</td>\n",
       "      <td>1.949950e+12</td>\n",
       "      <td>3.890610e+12</td>\n",
       "      <td>78.0</td>\n",
       "      <td>81.0</td>\n",
       "      <td>99.523578</td>\n",
       "      <td>3.846154</td>\n",
       "    </tr>\n",
       "    <tr>\n",
       "      <th>3</th>\n",
       "      <td>Mexico</td>\n",
       "      <td>6.836480e+11</td>\n",
       "      <td>1.298460e+12</td>\n",
       "      <td>74.8</td>\n",
       "      <td>76.7</td>\n",
       "      <td>89.931076</td>\n",
       "      <td>2.540107</td>\n",
       "    </tr>\n",
       "    <tr>\n",
       "      <th>4</th>\n",
       "      <td>United States of America</td>\n",
       "      <td>1.030000e+13</td>\n",
       "      <td>1.810000e+13</td>\n",
       "      <td>76.8</td>\n",
       "      <td>79.3</td>\n",
       "      <td>75.728155</td>\n",
       "      <td>3.255208</td>\n",
       "    </tr>\n",
       "  </tbody>\n",
       "</table>\n",
       "</div>"
      ],
      "text/plain": [
       "                    Country       GDP_Min       GDP_Max  LEABY_Min  LEABY_Max  \\\n",
       "1                     China  1.211350e+12  1.106470e+13       71.7       76.1   \n",
       "0                     Chile  6.973681e+10  2.783840e+11       77.3       80.5   \n",
       "5                  Zimbabwe  4.415703e+09  1.630467e+10       44.3       60.7   \n",
       "2                   Germany  1.949950e+12  3.890610e+12       78.0       81.0   \n",
       "3                    Mexico  6.836480e+11  1.298460e+12       74.8       76.7   \n",
       "4  United States of America  1.030000e+13  1.810000e+13       76.8       79.3   \n",
       "\n",
       "   GDP_Delta%  LEABY_Delta%  \n",
       "1  813.418913      6.136681  \n",
       "0  299.192327      4.139715  \n",
       "5  269.242871     37.020316  \n",
       "2   99.523578      3.846154  \n",
       "3   89.931076      2.540107  \n",
       "4   75.728155      3.255208  "
      ]
     },
     "metadata": {},
     "output_type": "display_data"
    },
    {
     "name": "stdout",
     "output_type": "stream",
     "text": [
      "\n",
      "\u001b[94mBy GDP_Max:\u001b[0m\n",
      "\n"
     ]
    },
    {
     "data": {
      "text/html": [
       "<div>\n",
       "<style scoped>\n",
       "    .dataframe tbody tr th:only-of-type {\n",
       "        vertical-align: middle;\n",
       "    }\n",
       "\n",
       "    .dataframe tbody tr th {\n",
       "        vertical-align: top;\n",
       "    }\n",
       "\n",
       "    .dataframe thead th {\n",
       "        text-align: right;\n",
       "    }\n",
       "</style>\n",
       "<table border=\"1\" class=\"dataframe\">\n",
       "  <thead>\n",
       "    <tr style=\"text-align: right;\">\n",
       "      <th></th>\n",
       "      <th>Country</th>\n",
       "      <th>GDP_Min</th>\n",
       "      <th>GDP_Max</th>\n",
       "      <th>LEABY_Min</th>\n",
       "      <th>LEABY_Max</th>\n",
       "      <th>GDP_Delta%</th>\n",
       "      <th>LEABY_Delta%</th>\n",
       "    </tr>\n",
       "  </thead>\n",
       "  <tbody>\n",
       "    <tr>\n",
       "      <th>4</th>\n",
       "      <td>United States of America</td>\n",
       "      <td>1.030000e+13</td>\n",
       "      <td>1.810000e+13</td>\n",
       "      <td>76.8</td>\n",
       "      <td>79.3</td>\n",
       "      <td>75.728155</td>\n",
       "      <td>3.255208</td>\n",
       "    </tr>\n",
       "    <tr>\n",
       "      <th>1</th>\n",
       "      <td>China</td>\n",
       "      <td>1.211350e+12</td>\n",
       "      <td>1.106470e+13</td>\n",
       "      <td>71.7</td>\n",
       "      <td>76.1</td>\n",
       "      <td>813.418913</td>\n",
       "      <td>6.136681</td>\n",
       "    </tr>\n",
       "    <tr>\n",
       "      <th>2</th>\n",
       "      <td>Germany</td>\n",
       "      <td>1.949950e+12</td>\n",
       "      <td>3.890610e+12</td>\n",
       "      <td>78.0</td>\n",
       "      <td>81.0</td>\n",
       "      <td>99.523578</td>\n",
       "      <td>3.846154</td>\n",
       "    </tr>\n",
       "    <tr>\n",
       "      <th>3</th>\n",
       "      <td>Mexico</td>\n",
       "      <td>6.836480e+11</td>\n",
       "      <td>1.298460e+12</td>\n",
       "      <td>74.8</td>\n",
       "      <td>76.7</td>\n",
       "      <td>89.931076</td>\n",
       "      <td>2.540107</td>\n",
       "    </tr>\n",
       "    <tr>\n",
       "      <th>0</th>\n",
       "      <td>Chile</td>\n",
       "      <td>6.973681e+10</td>\n",
       "      <td>2.783840e+11</td>\n",
       "      <td>77.3</td>\n",
       "      <td>80.5</td>\n",
       "      <td>299.192327</td>\n",
       "      <td>4.139715</td>\n",
       "    </tr>\n",
       "    <tr>\n",
       "      <th>5</th>\n",
       "      <td>Zimbabwe</td>\n",
       "      <td>4.415703e+09</td>\n",
       "      <td>1.630467e+10</td>\n",
       "      <td>44.3</td>\n",
       "      <td>60.7</td>\n",
       "      <td>269.242871</td>\n",
       "      <td>37.020316</td>\n",
       "    </tr>\n",
       "  </tbody>\n",
       "</table>\n",
       "</div>"
      ],
      "text/plain": [
       "                    Country       GDP_Min       GDP_Max  LEABY_Min  LEABY_Max  \\\n",
       "4  United States of America  1.030000e+13  1.810000e+13       76.8       79.3   \n",
       "1                     China  1.211350e+12  1.106470e+13       71.7       76.1   \n",
       "2                   Germany  1.949950e+12  3.890610e+12       78.0       81.0   \n",
       "3                    Mexico  6.836480e+11  1.298460e+12       74.8       76.7   \n",
       "0                     Chile  6.973681e+10  2.783840e+11       77.3       80.5   \n",
       "5                  Zimbabwe  4.415703e+09  1.630467e+10       44.3       60.7   \n",
       "\n",
       "   GDP_Delta%  LEABY_Delta%  \n",
       "4   75.728155      3.255208  \n",
       "1  813.418913      6.136681  \n",
       "2   99.523578      3.846154  \n",
       "3   89.931076      2.540107  \n",
       "0  299.192327      4.139715  \n",
       "5  269.242871     37.020316  "
      ]
     },
     "metadata": {},
     "output_type": "display_data"
    },
    {
     "name": "stdout",
     "output_type": "stream",
     "text": [
      "\n",
      "\u001b[94mBy LEABY_Delta%:\u001b[0m\n",
      "\n"
     ]
    },
    {
     "data": {
      "text/html": [
       "<div>\n",
       "<style scoped>\n",
       "    .dataframe tbody tr th:only-of-type {\n",
       "        vertical-align: middle;\n",
       "    }\n",
       "\n",
       "    .dataframe tbody tr th {\n",
       "        vertical-align: top;\n",
       "    }\n",
       "\n",
       "    .dataframe thead th {\n",
       "        text-align: right;\n",
       "    }\n",
       "</style>\n",
       "<table border=\"1\" class=\"dataframe\">\n",
       "  <thead>\n",
       "    <tr style=\"text-align: right;\">\n",
       "      <th></th>\n",
       "      <th>Country</th>\n",
       "      <th>GDP_Min</th>\n",
       "      <th>GDP_Max</th>\n",
       "      <th>LEABY_Min</th>\n",
       "      <th>LEABY_Max</th>\n",
       "      <th>GDP_Delta%</th>\n",
       "      <th>LEABY_Delta%</th>\n",
       "    </tr>\n",
       "  </thead>\n",
       "  <tbody>\n",
       "    <tr>\n",
       "      <th>5</th>\n",
       "      <td>Zimbabwe</td>\n",
       "      <td>4.415703e+09</td>\n",
       "      <td>1.630467e+10</td>\n",
       "      <td>44.3</td>\n",
       "      <td>60.7</td>\n",
       "      <td>269.242871</td>\n",
       "      <td>37.020316</td>\n",
       "    </tr>\n",
       "    <tr>\n",
       "      <th>1</th>\n",
       "      <td>China</td>\n",
       "      <td>1.211350e+12</td>\n",
       "      <td>1.106470e+13</td>\n",
       "      <td>71.7</td>\n",
       "      <td>76.1</td>\n",
       "      <td>813.418913</td>\n",
       "      <td>6.136681</td>\n",
       "    </tr>\n",
       "    <tr>\n",
       "      <th>0</th>\n",
       "      <td>Chile</td>\n",
       "      <td>6.973681e+10</td>\n",
       "      <td>2.783840e+11</td>\n",
       "      <td>77.3</td>\n",
       "      <td>80.5</td>\n",
       "      <td>299.192327</td>\n",
       "      <td>4.139715</td>\n",
       "    </tr>\n",
       "    <tr>\n",
       "      <th>2</th>\n",
       "      <td>Germany</td>\n",
       "      <td>1.949950e+12</td>\n",
       "      <td>3.890610e+12</td>\n",
       "      <td>78.0</td>\n",
       "      <td>81.0</td>\n",
       "      <td>99.523578</td>\n",
       "      <td>3.846154</td>\n",
       "    </tr>\n",
       "    <tr>\n",
       "      <th>4</th>\n",
       "      <td>United States of America</td>\n",
       "      <td>1.030000e+13</td>\n",
       "      <td>1.810000e+13</td>\n",
       "      <td>76.8</td>\n",
       "      <td>79.3</td>\n",
       "      <td>75.728155</td>\n",
       "      <td>3.255208</td>\n",
       "    </tr>\n",
       "    <tr>\n",
       "      <th>3</th>\n",
       "      <td>Mexico</td>\n",
       "      <td>6.836480e+11</td>\n",
       "      <td>1.298460e+12</td>\n",
       "      <td>74.8</td>\n",
       "      <td>76.7</td>\n",
       "      <td>89.931076</td>\n",
       "      <td>2.540107</td>\n",
       "    </tr>\n",
       "  </tbody>\n",
       "</table>\n",
       "</div>"
      ],
      "text/plain": [
       "                    Country       GDP_Min       GDP_Max  LEABY_Min  LEABY_Max  \\\n",
       "5                  Zimbabwe  4.415703e+09  1.630467e+10       44.3       60.7   \n",
       "1                     China  1.211350e+12  1.106470e+13       71.7       76.1   \n",
       "0                     Chile  6.973681e+10  2.783840e+11       77.3       80.5   \n",
       "2                   Germany  1.949950e+12  3.890610e+12       78.0       81.0   \n",
       "4  United States of America  1.030000e+13  1.810000e+13       76.8       79.3   \n",
       "3                    Mexico  6.836480e+11  1.298460e+12       74.8       76.7   \n",
       "\n",
       "   GDP_Delta%  LEABY_Delta%  \n",
       "5  269.242871     37.020316  \n",
       "1  813.418913      6.136681  \n",
       "0  299.192327      4.139715  \n",
       "2   99.523578      3.846154  \n",
       "4   75.728155      3.255208  \n",
       "3   89.931076      2.540107  "
      ]
     },
     "metadata": {},
     "output_type": "display_data"
    },
    {
     "name": "stdout",
     "output_type": "stream",
     "text": [
      "\n",
      "\u001b[94mBy LEABY_Max:\u001b[0m\n",
      "\n"
     ]
    },
    {
     "data": {
      "text/html": [
       "<div>\n",
       "<style scoped>\n",
       "    .dataframe tbody tr th:only-of-type {\n",
       "        vertical-align: middle;\n",
       "    }\n",
       "\n",
       "    .dataframe tbody tr th {\n",
       "        vertical-align: top;\n",
       "    }\n",
       "\n",
       "    .dataframe thead th {\n",
       "        text-align: right;\n",
       "    }\n",
       "</style>\n",
       "<table border=\"1\" class=\"dataframe\">\n",
       "  <thead>\n",
       "    <tr style=\"text-align: right;\">\n",
       "      <th></th>\n",
       "      <th>Country</th>\n",
       "      <th>GDP_Min</th>\n",
       "      <th>GDP_Max</th>\n",
       "      <th>LEABY_Min</th>\n",
       "      <th>LEABY_Max</th>\n",
       "      <th>GDP_Delta%</th>\n",
       "      <th>LEABY_Delta%</th>\n",
       "    </tr>\n",
       "  </thead>\n",
       "  <tbody>\n",
       "    <tr>\n",
       "      <th>2</th>\n",
       "      <td>Germany</td>\n",
       "      <td>1.949950e+12</td>\n",
       "      <td>3.890610e+12</td>\n",
       "      <td>78.0</td>\n",
       "      <td>81.0</td>\n",
       "      <td>99.523578</td>\n",
       "      <td>3.846154</td>\n",
       "    </tr>\n",
       "    <tr>\n",
       "      <th>0</th>\n",
       "      <td>Chile</td>\n",
       "      <td>6.973681e+10</td>\n",
       "      <td>2.783840e+11</td>\n",
       "      <td>77.3</td>\n",
       "      <td>80.5</td>\n",
       "      <td>299.192327</td>\n",
       "      <td>4.139715</td>\n",
       "    </tr>\n",
       "    <tr>\n",
       "      <th>4</th>\n",
       "      <td>United States of America</td>\n",
       "      <td>1.030000e+13</td>\n",
       "      <td>1.810000e+13</td>\n",
       "      <td>76.8</td>\n",
       "      <td>79.3</td>\n",
       "      <td>75.728155</td>\n",
       "      <td>3.255208</td>\n",
       "    </tr>\n",
       "    <tr>\n",
       "      <th>3</th>\n",
       "      <td>Mexico</td>\n",
       "      <td>6.836480e+11</td>\n",
       "      <td>1.298460e+12</td>\n",
       "      <td>74.8</td>\n",
       "      <td>76.7</td>\n",
       "      <td>89.931076</td>\n",
       "      <td>2.540107</td>\n",
       "    </tr>\n",
       "    <tr>\n",
       "      <th>1</th>\n",
       "      <td>China</td>\n",
       "      <td>1.211350e+12</td>\n",
       "      <td>1.106470e+13</td>\n",
       "      <td>71.7</td>\n",
       "      <td>76.1</td>\n",
       "      <td>813.418913</td>\n",
       "      <td>6.136681</td>\n",
       "    </tr>\n",
       "    <tr>\n",
       "      <th>5</th>\n",
       "      <td>Zimbabwe</td>\n",
       "      <td>4.415703e+09</td>\n",
       "      <td>1.630467e+10</td>\n",
       "      <td>44.3</td>\n",
       "      <td>60.7</td>\n",
       "      <td>269.242871</td>\n",
       "      <td>37.020316</td>\n",
       "    </tr>\n",
       "  </tbody>\n",
       "</table>\n",
       "</div>"
      ],
      "text/plain": [
       "                    Country       GDP_Min       GDP_Max  LEABY_Min  LEABY_Max  \\\n",
       "2                   Germany  1.949950e+12  3.890610e+12       78.0       81.0   \n",
       "0                     Chile  6.973681e+10  2.783840e+11       77.3       80.5   \n",
       "4  United States of America  1.030000e+13  1.810000e+13       76.8       79.3   \n",
       "3                    Mexico  6.836480e+11  1.298460e+12       74.8       76.7   \n",
       "1                     China  1.211350e+12  1.106470e+13       71.7       76.1   \n",
       "5                  Zimbabwe  4.415703e+09  1.630467e+10       44.3       60.7   \n",
       "\n",
       "   GDP_Delta%  LEABY_Delta%  \n",
       "2   99.523578      3.846154  \n",
       "0  299.192327      4.139715  \n",
       "4   75.728155      3.255208  \n",
       "3   89.931076      2.540107  \n",
       "1  813.418913      6.136681  \n",
       "5  269.242871     37.020316  "
      ]
     },
     "metadata": {},
     "output_type": "display_data"
    }
   ],
   "source": [
    "df_GDP_Min = df.groupby(\"Country\").GDP.min().reset_index()\n",
    "df_GDP_Min.rename(columns={\"GDP\":\"GDP_Min\"}, inplace=True, errors=\"raise\")\n",
    "df_GDP_Max = df.groupby(\"Country\").GDP.max().reset_index()\n",
    "df_GDP_Max.rename(columns={\"GDP\":\"GDP_Max\"}, inplace=True, errors=\"raise\")\n",
    "df_LE_Min = df.groupby(\"Country\").LEABY.min().reset_index()\n",
    "df_LE_Min.rename(columns={\"LEABY\":\"LEABY_Min\"}, inplace=True, errors=\"raise\")\n",
    "df_LE_Max = df.groupby(\"Country\").LEABY.max().reset_index()\n",
    "df_LE_Max.rename(columns={\"LEABY\":\"LEABY_Max\"}, inplace=True, errors=\"raise\")\n",
    "df2 = df_GDP_Min.merge(df_GDP_Max).merge(df_LE_Min).merge(df_LE_Max)\n",
    "df2['GDP_Delta%'] = df2.apply(lambda row: (row['GDP_Max'] - row['GDP_Min'])/row['GDP_Min']*100, axis=1)\n",
    "df2['LEABY_Delta%'] = df2.apply(lambda row: (row['LEABY_Max'] - row['LEABY_Min'])/row['LEABY_Min']*100, axis=1)\n",
    "print(\"\\n\" + color.BLUE + \"By GDP_Delta\" + color.END+ \"\\n\")\n",
    "display(df2.sort_values(\"GDP_Delta%\", ascending=False))\n",
    "print(\"\\n\" + color.BLUE + \"By GDP_Max:\" + color.END+ \"\\n\")\n",
    "display(df2.sort_values(\"GDP_Max\", ascending=False))\n",
    "print(\"\\n\" + color.BLUE + \"By LEABY_Delta%:\" + color.END+ \"\\n\")\n",
    "display(df2.sort_values(\"LEABY_Delta%\", ascending=False))\n",
    "print(\"\\n\" + color.BLUE + \"By LEABY_Max:\" + color.END+ \"\\n\")\n",
    "display(df2.sort_values(\"LEABY_Max\", ascending=False))"
   ]
  },
  {
   "cell_type": "markdown",
   "metadata": {
    "ExecuteTime": {
     "end_time": "2020-05-24T14:39:00.243963Z",
     "start_time": "2020-05-24T14:39:00.237019Z"
    }
   },
   "source": [
    "China has seen the largest increase in GDP by 813%,  from its lowest level to its highest level between the years 2000 and 2015. As of 2015, China has the second largest GDP in the dataset.\n",
    "\n",
    "Zimbabwe has seen teh largest increase in life expectancy by 37%, from its lowest level to its highest level between the years 2000 and 2015. With a maximum life expectancy 60.7 years Zimbabwe is ranked last in the dataset. China has an expected life expectancy 15.4 years higher than Zimbabwe's, the second last ranked country in the dataset. To put these numbers in prespective, China has only 3.9 yeras less in life expectancy than Germany, the first ranked country by life expectancy in the dataset. Zimbabwe's life expectancy has increased dramatically in the 15 year period however, Zimbabwe still remains an outlier in the dataset.   "
   ]
  },
  {
   "cell_type": "markdown",
   "metadata": {},
   "source": [
    "#### What years are there the biggest changes in the data?"
   ]
  },
  {
   "cell_type": "code",
   "execution_count": 87,
   "metadata": {
    "ExecuteTime": {
     "end_time": "2020-06-06T13:30:09.404238Z",
     "start_time": "2020-06-06T13:30:09.339451Z"
    }
   },
   "outputs": [
    {
     "name": "stdout",
     "output_type": "stream",
     "text": [
      "\n",
      "\u001b[94mby GDP % Change, combined:\u001b[0m\n",
      "\n"
     ]
    },
    {
     "data": {
      "text/html": [
       "<div>\n",
       "<style scoped>\n",
       "    .dataframe tbody tr th:only-of-type {\n",
       "        vertical-align: middle;\n",
       "    }\n",
       "\n",
       "    .dataframe tbody tr th {\n",
       "        vertical-align: top;\n",
       "    }\n",
       "\n",
       "    .dataframe thead th {\n",
       "        text-align: right;\n",
       "    }\n",
       "</style>\n",
       "<table border=\"1\" class=\"dataframe\">\n",
       "  <thead>\n",
       "    <tr style=\"text-align: right;\">\n",
       "      <th></th>\n",
       "      <th>Year</th>\n",
       "      <th>GDP</th>\n",
       "      <th>% Change</th>\n",
       "    </tr>\n",
       "  </thead>\n",
       "  <tbody>\n",
       "    <tr>\n",
       "      <th>11</th>\n",
       "      <td>2011</td>\n",
       "      <td>4.710965e+12</td>\n",
       "      <td>9.56786</td>\n",
       "    </tr>\n",
       "    <tr>\n",
       "      <th>7</th>\n",
       "      <td>2007</td>\n",
       "      <td>3.785750e+12</td>\n",
       "      <td>9.30893</td>\n",
       "    </tr>\n",
       "    <tr>\n",
       "      <th>4</th>\n",
       "      <td>2004</td>\n",
       "      <td>2.991647e+12</td>\n",
       "      <td>9.04707</td>\n",
       "    </tr>\n",
       "    <tr>\n",
       "      <th>6</th>\n",
       "      <td>2006</td>\n",
       "      <td>3.463349e+12</td>\n",
       "      <td>7.99091</td>\n",
       "    </tr>\n",
       "    <tr>\n",
       "      <th>10</th>\n",
       "      <td>2010</td>\n",
       "      <td>4.299587e+12</td>\n",
       "      <td>7.47211</td>\n",
       "    </tr>\n",
       "    <tr>\n",
       "      <th>5</th>\n",
       "      <td>2005</td>\n",
       "      <td>3.207074e+12</td>\n",
       "      <td>7.20095</td>\n",
       "    </tr>\n",
       "    <tr>\n",
       "      <th>8</th>\n",
       "      <td>2008</td>\n",
       "      <td>4.055986e+12</td>\n",
       "      <td>7.13824</td>\n",
       "    </tr>\n",
       "    <tr>\n",
       "      <th>3</th>\n",
       "      <td>2003</td>\n",
       "      <td>2.743446e+12</td>\n",
       "      <td>7.11474</td>\n",
       "    </tr>\n",
       "    <tr>\n",
       "      <th>13</th>\n",
       "      <td>2013</td>\n",
       "      <td>5.269258e+12</td>\n",
       "      <td>6.19045</td>\n",
       "    </tr>\n",
       "    <tr>\n",
       "      <th>14</th>\n",
       "      <td>2014</td>\n",
       "      <td>5.558059e+12</td>\n",
       "      <td>5.48086</td>\n",
       "    </tr>\n",
       "    <tr>\n",
       "      <th>12</th>\n",
       "      <td>2012</td>\n",
       "      <td>4.962082e+12</td>\n",
       "      <td>5.33049</td>\n",
       "    </tr>\n",
       "    <tr>\n",
       "      <th>2</th>\n",
       "      <td>2002</td>\n",
       "      <td>2.561221e+12</td>\n",
       "      <td>4.59294</td>\n",
       "    </tr>\n",
       "    <tr>\n",
       "      <th>1</th>\n",
       "      <td>2001</td>\n",
       "      <td>2.448752e+12</td>\n",
       "      <td>3.25389</td>\n",
       "    </tr>\n",
       "    <tr>\n",
       "      <th>15</th>\n",
       "      <td>2015</td>\n",
       "      <td>5.658565e+12</td>\n",
       "      <td>1.80831</td>\n",
       "    </tr>\n",
       "    <tr>\n",
       "      <th>0</th>\n",
       "      <td>2000</td>\n",
       "      <td>2.371583e+12</td>\n",
       "      <td>0</td>\n",
       "    </tr>\n",
       "    <tr>\n",
       "      <th>9</th>\n",
       "      <td>2009</td>\n",
       "      <td>4.000653e+12</td>\n",
       "      <td>-1.36421</td>\n",
       "    </tr>\n",
       "  </tbody>\n",
       "</table>\n",
       "</div>"
      ],
      "text/plain": [
       "    Year           GDP % Change\n",
       "11  2011  4.710965e+12  9.56786\n",
       "7   2007  3.785750e+12  9.30893\n",
       "4   2004  2.991647e+12  9.04707\n",
       "6   2006  3.463349e+12  7.99091\n",
       "10  2010  4.299587e+12  7.47211\n",
       "5   2005  3.207074e+12  7.20095\n",
       "8   2008  4.055986e+12  7.13824\n",
       "3   2003  2.743446e+12  7.11474\n",
       "13  2013  5.269258e+12  6.19045\n",
       "14  2014  5.558059e+12  5.48086\n",
       "12  2012  4.962082e+12  5.33049\n",
       "2   2002  2.561221e+12  4.59294\n",
       "1   2001  2.448752e+12  3.25389\n",
       "15  2015  5.658565e+12  1.80831\n",
       "0   2000  2.371583e+12        0\n",
       "9   2009  4.000653e+12 -1.36421"
      ]
     },
     "metadata": {},
     "output_type": "display_data"
    },
    {
     "name": "stdout",
     "output_type": "stream",
     "text": [
      "\n",
      "\u001b[94mby LEABY % Change, combined:\u001b[0m\n",
      "\n"
     ]
    },
    {
     "data": {
      "text/html": [
       "<div>\n",
       "<style scoped>\n",
       "    .dataframe tbody tr th:only-of-type {\n",
       "        vertical-align: middle;\n",
       "    }\n",
       "\n",
       "    .dataframe tbody tr th {\n",
       "        vertical-align: top;\n",
       "    }\n",
       "\n",
       "    .dataframe thead th {\n",
       "        text-align: right;\n",
       "    }\n",
       "</style>\n",
       "<table border=\"1\" class=\"dataframe\">\n",
       "  <thead>\n",
       "    <tr style=\"text-align: right;\">\n",
       "      <th></th>\n",
       "      <th>Year</th>\n",
       "      <th>LEABY</th>\n",
       "      <th>% Change</th>\n",
       "    </tr>\n",
       "  </thead>\n",
       "  <tbody>\n",
       "    <tr>\n",
       "      <th>11</th>\n",
       "      <td>2011</td>\n",
       "      <td>74.200000</td>\n",
       "      <td>0.975278</td>\n",
       "    </tr>\n",
       "    <tr>\n",
       "      <th>6</th>\n",
       "      <td>2006</td>\n",
       "      <td>71.950000</td>\n",
       "      <td>0.652833</td>\n",
       "    </tr>\n",
       "    <tr>\n",
       "      <th>10</th>\n",
       "      <td>2010</td>\n",
       "      <td>73.483333</td>\n",
       "      <td>0.570255</td>\n",
       "    </tr>\n",
       "    <tr>\n",
       "      <th>9</th>\n",
       "      <td>2009</td>\n",
       "      <td>73.066667</td>\n",
       "      <td>0.550459</td>\n",
       "    </tr>\n",
       "    <tr>\n",
       "      <th>12</th>\n",
       "      <td>2012</td>\n",
       "      <td>74.600000</td>\n",
       "      <td>0.539084</td>\n",
       "    </tr>\n",
       "    <tr>\n",
       "      <th>15</th>\n",
       "      <td>2015</td>\n",
       "      <td>75.716667</td>\n",
       "      <td>0.531091</td>\n",
       "    </tr>\n",
       "    <tr>\n",
       "      <th>8</th>\n",
       "      <td>2008</td>\n",
       "      <td>72.666667</td>\n",
       "      <td>0.507146</td>\n",
       "    </tr>\n",
       "    <tr>\n",
       "      <th>13</th>\n",
       "      <td>2013</td>\n",
       "      <td>74.966667</td>\n",
       "      <td>0.49151</td>\n",
       "    </tr>\n",
       "    <tr>\n",
       "      <th>7</th>\n",
       "      <td>2007</td>\n",
       "      <td>72.300000</td>\n",
       "      <td>0.486449</td>\n",
       "    </tr>\n",
       "    <tr>\n",
       "      <th>14</th>\n",
       "      <td>2014</td>\n",
       "      <td>75.316667</td>\n",
       "      <td>0.466874</td>\n",
       "    </tr>\n",
       "    <tr>\n",
       "      <th>4</th>\n",
       "      <td>2004</td>\n",
       "      <td>71.300000</td>\n",
       "      <td>0.375411</td>\n",
       "    </tr>\n",
       "    <tr>\n",
       "      <th>5</th>\n",
       "      <td>2005</td>\n",
       "      <td>71.483333</td>\n",
       "      <td>0.257129</td>\n",
       "    </tr>\n",
       "    <tr>\n",
       "      <th>2</th>\n",
       "      <td>2002</td>\n",
       "      <td>70.950000</td>\n",
       "      <td>0.164706</td>\n",
       "    </tr>\n",
       "    <tr>\n",
       "      <th>3</th>\n",
       "      <td>2003</td>\n",
       "      <td>71.033333</td>\n",
       "      <td>0.117454</td>\n",
       "    </tr>\n",
       "    <tr>\n",
       "      <th>1</th>\n",
       "      <td>2001</td>\n",
       "      <td>70.833333</td>\n",
       "      <td>0.0942063</td>\n",
       "    </tr>\n",
       "    <tr>\n",
       "      <th>0</th>\n",
       "      <td>2000</td>\n",
       "      <td>70.766667</td>\n",
       "      <td>0</td>\n",
       "    </tr>\n",
       "  </tbody>\n",
       "</table>\n",
       "</div>"
      ],
      "text/plain": [
       "    Year      LEABY   % Change\n",
       "11  2011  74.200000   0.975278\n",
       "6   2006  71.950000   0.652833\n",
       "10  2010  73.483333   0.570255\n",
       "9   2009  73.066667   0.550459\n",
       "12  2012  74.600000   0.539084\n",
       "15  2015  75.716667   0.531091\n",
       "8   2008  72.666667   0.507146\n",
       "13  2013  74.966667    0.49151\n",
       "7   2007  72.300000   0.486449\n",
       "14  2014  75.316667   0.466874\n",
       "4   2004  71.300000   0.375411\n",
       "5   2005  71.483333   0.257129\n",
       "2   2002  70.950000   0.164706\n",
       "3   2003  71.033333   0.117454\n",
       "1   2001  70.833333  0.0942063\n",
       "0   2000  70.766667          0"
      ]
     },
     "metadata": {},
     "output_type": "display_data"
    }
   ],
   "source": [
    "df3 = df.copy().groupby(\"Year\").GDP.mean().reset_index()\n",
    "df3[\"% Change\"]= \"\"\n",
    "for i in range(len(df3)):\n",
    "        if i == 0:\n",
    "            df3.loc[i, \"% Change\"] = 0\n",
    "        else:\n",
    "            df3.loc[i, \"% Change\"] = (df3.loc[i, \"GDP\"] - df3.loc[i-1,\"GDP\"])/df3.loc[i-1,\"GDP\"]*100\n",
    "\n",
    "print(\"\\n\" + color.BLUE + \"by GDP % Change, combined:\" + color.END+ \"\\n\")\n",
    "display(df3.sort_values(\"% Change\", ascending=False))   \n",
    "        \n",
    "df4 = df.copy().groupby(\"Year\").LEABY.mean().reset_index()\n",
    "df4[\"% Change\"]= \"\"\n",
    "for i in range(len(df4)):\n",
    "        if i == 0:\n",
    "            df4.loc[i, \"% Change\"] = 0\n",
    "        else:\n",
    "            df4.loc[i, \"% Change\"] = (df4.loc[i, \"LEABY\"] - df4.loc[i-1,\"LEABY\"])/df4.loc[i-1,\"LEABY\"]*100\n",
    "print(\"\\n\" + color.BLUE + \"by LEABY % Change, combined:\" + color.END+ \"\\n\")              \n",
    "display(df4.sort_values(\"% Change\", ascending=False)) \n",
    "\n"
   ]
  },
  {
   "cell_type": "markdown",
   "metadata": {},
   "source": [
    "The largest change in the countries' combined GDP and life expectency occured in the year 2011, increasing by 9.57% and 0.98% respectively. "
   ]
  },
  {
   "cell_type": "markdown",
   "metadata": {},
   "source": [
    "#### Which country has had the least change in GDP over time?"
   ]
  },
  {
   "cell_type": "code",
   "execution_count": 88,
   "metadata": {
    "ExecuteTime": {
     "end_time": "2020-06-06T13:30:09.467533Z",
     "start_time": "2020-06-06T13:30:09.405234Z"
    }
   },
   "outputs": [
    {
     "name": "stdout",
     "output_type": "stream",
     "text": [
      "\n",
      "\u001b[94m2000-2015 % Delta GDP,by Country:\u001b[0m\n",
      "\n"
     ]
    },
    {
     "data": {
      "text/html": [
       "<div>\n",
       "<style scoped>\n",
       "    .dataframe tbody tr th:only-of-type {\n",
       "        vertical-align: middle;\n",
       "    }\n",
       "\n",
       "    .dataframe tbody tr th {\n",
       "        vertical-align: top;\n",
       "    }\n",
       "\n",
       "    .dataframe thead th {\n",
       "        text-align: right;\n",
       "    }\n",
       "</style>\n",
       "<table border=\"1\" class=\"dataframe\">\n",
       "  <thead>\n",
       "    <tr style=\"text-align: right;\">\n",
       "      <th></th>\n",
       "      <th>Country</th>\n",
       "      <th>GDP:Y2000</th>\n",
       "      <th>GDP:Y2015</th>\n",
       "      <th>LEABY:Y2000</th>\n",
       "      <th>LEABY:Y2015</th>\n",
       "      <th>% Delta GDP</th>\n",
       "      <th>% Delta LEABY</th>\n",
       "    </tr>\n",
       "  </thead>\n",
       "  <tbody>\n",
       "    <tr>\n",
       "      <th>1</th>\n",
       "      <td>China</td>\n",
       "      <td>1.211350e+12</td>\n",
       "      <td>1.106470e+13</td>\n",
       "      <td>71.7</td>\n",
       "      <td>76.1</td>\n",
       "      <td>813.418913</td>\n",
       "      <td>6.136681</td>\n",
       "    </tr>\n",
       "    <tr>\n",
       "      <th>0</th>\n",
       "      <td>Chile</td>\n",
       "      <td>7.786093e+10</td>\n",
       "      <td>2.425180e+11</td>\n",
       "      <td>77.3</td>\n",
       "      <td>80.5</td>\n",
       "      <td>211.475850</td>\n",
       "      <td>4.139715</td>\n",
       "    </tr>\n",
       "    <tr>\n",
       "      <th>5</th>\n",
       "      <td>Zimbabwe</td>\n",
       "      <td>6.689958e+09</td>\n",
       "      <td>1.630467e+10</td>\n",
       "      <td>46.0</td>\n",
       "      <td>60.7</td>\n",
       "      <td>143.718552</td>\n",
       "      <td>31.956522</td>\n",
       "    </tr>\n",
       "    <tr>\n",
       "      <th>4</th>\n",
       "      <td>United States of America</td>\n",
       "      <td>1.030000e+13</td>\n",
       "      <td>1.810000e+13</td>\n",
       "      <td>76.8</td>\n",
       "      <td>79.3</td>\n",
       "      <td>75.728155</td>\n",
       "      <td>3.255208</td>\n",
       "    </tr>\n",
       "    <tr>\n",
       "      <th>2</th>\n",
       "      <td>Germany</td>\n",
       "      <td>1.949950e+12</td>\n",
       "      <td>3.375610e+12</td>\n",
       "      <td>78.0</td>\n",
       "      <td>81.0</td>\n",
       "      <td>73.112644</td>\n",
       "      <td>3.846154</td>\n",
       "    </tr>\n",
       "    <tr>\n",
       "      <th>3</th>\n",
       "      <td>Mexico</td>\n",
       "      <td>6.836480e+11</td>\n",
       "      <td>1.152260e+12</td>\n",
       "      <td>74.8</td>\n",
       "      <td>76.7</td>\n",
       "      <td>68.545801</td>\n",
       "      <td>2.540107</td>\n",
       "    </tr>\n",
       "  </tbody>\n",
       "</table>\n",
       "</div>"
      ],
      "text/plain": [
       "                    Country     GDP:Y2000     GDP:Y2015  LEABY:Y2000  \\\n",
       "1                     China  1.211350e+12  1.106470e+13         71.7   \n",
       "0                     Chile  7.786093e+10  2.425180e+11         77.3   \n",
       "5                  Zimbabwe  6.689958e+09  1.630467e+10         46.0   \n",
       "4  United States of America  1.030000e+13  1.810000e+13         76.8   \n",
       "2                   Germany  1.949950e+12  3.375610e+12         78.0   \n",
       "3                    Mexico  6.836480e+11  1.152260e+12         74.8   \n",
       "\n",
       "   LEABY:Y2015  % Delta GDP  % Delta LEABY  \n",
       "1         76.1   813.418913       6.136681  \n",
       "0         80.5   211.475850       4.139715  \n",
       "5         60.7   143.718552      31.956522  \n",
       "4         79.3    75.728155       3.255208  \n",
       "2         81.0    73.112644       3.846154  \n",
       "3         76.7    68.545801       2.540107  "
      ]
     },
     "metadata": {},
     "output_type": "display_data"
    },
    {
     "name": "stdout",
     "output_type": "stream",
     "text": [
      "\n",
      "\u001b[94m2000-2015 % Delta LEABY,by Country:\u001b[0m\n",
      "\n"
     ]
    },
    {
     "data": {
      "text/html": [
       "<div>\n",
       "<style scoped>\n",
       "    .dataframe tbody tr th:only-of-type {\n",
       "        vertical-align: middle;\n",
       "    }\n",
       "\n",
       "    .dataframe tbody tr th {\n",
       "        vertical-align: top;\n",
       "    }\n",
       "\n",
       "    .dataframe thead th {\n",
       "        text-align: right;\n",
       "    }\n",
       "</style>\n",
       "<table border=\"1\" class=\"dataframe\">\n",
       "  <thead>\n",
       "    <tr style=\"text-align: right;\">\n",
       "      <th></th>\n",
       "      <th>Country</th>\n",
       "      <th>GDP:Y2000</th>\n",
       "      <th>GDP:Y2015</th>\n",
       "      <th>LEABY:Y2000</th>\n",
       "      <th>LEABY:Y2015</th>\n",
       "      <th>% Delta GDP</th>\n",
       "      <th>% Delta LEABY</th>\n",
       "    </tr>\n",
       "  </thead>\n",
       "  <tbody>\n",
       "    <tr>\n",
       "      <th>5</th>\n",
       "      <td>Zimbabwe</td>\n",
       "      <td>6.689958e+09</td>\n",
       "      <td>1.630467e+10</td>\n",
       "      <td>46.0</td>\n",
       "      <td>60.7</td>\n",
       "      <td>143.718552</td>\n",
       "      <td>31.956522</td>\n",
       "    </tr>\n",
       "    <tr>\n",
       "      <th>1</th>\n",
       "      <td>China</td>\n",
       "      <td>1.211350e+12</td>\n",
       "      <td>1.106470e+13</td>\n",
       "      <td>71.7</td>\n",
       "      <td>76.1</td>\n",
       "      <td>813.418913</td>\n",
       "      <td>6.136681</td>\n",
       "    </tr>\n",
       "    <tr>\n",
       "      <th>0</th>\n",
       "      <td>Chile</td>\n",
       "      <td>7.786093e+10</td>\n",
       "      <td>2.425180e+11</td>\n",
       "      <td>77.3</td>\n",
       "      <td>80.5</td>\n",
       "      <td>211.475850</td>\n",
       "      <td>4.139715</td>\n",
       "    </tr>\n",
       "    <tr>\n",
       "      <th>2</th>\n",
       "      <td>Germany</td>\n",
       "      <td>1.949950e+12</td>\n",
       "      <td>3.375610e+12</td>\n",
       "      <td>78.0</td>\n",
       "      <td>81.0</td>\n",
       "      <td>73.112644</td>\n",
       "      <td>3.846154</td>\n",
       "    </tr>\n",
       "    <tr>\n",
       "      <th>4</th>\n",
       "      <td>United States of America</td>\n",
       "      <td>1.030000e+13</td>\n",
       "      <td>1.810000e+13</td>\n",
       "      <td>76.8</td>\n",
       "      <td>79.3</td>\n",
       "      <td>75.728155</td>\n",
       "      <td>3.255208</td>\n",
       "    </tr>\n",
       "    <tr>\n",
       "      <th>3</th>\n",
       "      <td>Mexico</td>\n",
       "      <td>6.836480e+11</td>\n",
       "      <td>1.152260e+12</td>\n",
       "      <td>74.8</td>\n",
       "      <td>76.7</td>\n",
       "      <td>68.545801</td>\n",
       "      <td>2.540107</td>\n",
       "    </tr>\n",
       "  </tbody>\n",
       "</table>\n",
       "</div>"
      ],
      "text/plain": [
       "                    Country     GDP:Y2000     GDP:Y2015  LEABY:Y2000  \\\n",
       "5                  Zimbabwe  6.689958e+09  1.630467e+10         46.0   \n",
       "1                     China  1.211350e+12  1.106470e+13         71.7   \n",
       "0                     Chile  7.786093e+10  2.425180e+11         77.3   \n",
       "2                   Germany  1.949950e+12  3.375610e+12         78.0   \n",
       "4  United States of America  1.030000e+13  1.810000e+13         76.8   \n",
       "3                    Mexico  6.836480e+11  1.152260e+12         74.8   \n",
       "\n",
       "   LEABY:Y2015  % Delta GDP  % Delta LEABY  \n",
       "5         60.7   143.718552      31.956522  \n",
       "1         76.1   813.418913       6.136681  \n",
       "0         80.5   211.475850       4.139715  \n",
       "2         81.0    73.112644       3.846154  \n",
       "4         79.3    75.728155       3.255208  \n",
       "3         76.7    68.545801       2.540107  "
      ]
     },
     "metadata": {},
     "output_type": "display_data"
    }
   ],
   "source": [
    "\n",
    "rows_list = []\n",
    "for country in df.Country.unique():\n",
    "    dic = {}\n",
    "    dic.update({'Country': country,\n",
    "                \"GDP:Y2000\": df['GDP'][(df.Country == country)& (df.Year == 2000)].sum(),\n",
    "                \"GDP:Y2015\": df['GDP'][(df.Country == country)& (df.Year == 2015)].sum(),\n",
    "                \"LEABY:Y2000\": df['LEABY'][(df.Country == country)& (df.Year == 2000)].sum(),\n",
    "                \"LEABY:Y2015\": df['LEABY'][(df.Country == country)& (df.Year == 2015)].sum()})\n",
    "    rows_list.append(dic)\n",
    "\n",
    "column_names_df5 = [\"Country\", \"GDP:Y2000\",\"GDP:Y2015\", \"LEABY:Y2000\",\"LEABY:Y2015\"]\n",
    "df5 = pd.DataFrame(rows_list,columns =  column_names_df5)\n",
    "df5['% Delta GDP'] = df5.apply(lambda row: (row[\"GDP:Y2015\"] - row[\"GDP:Y2000\"])/row[\"GDP:Y2000\"]*100,axis=1)\n",
    "df5['% Delta LEABY'] = df5.apply(lambda row: (row[\"LEABY:Y2015\"] - row[\"LEABY:Y2000\"])/row[\"LEABY:Y2000\"]*100,axis=1)\n",
    "print(\"\\n\" + color.BLUE + \"2000-2015 % Delta GDP,by Country:\" + color.END+ \"\\n\")\n",
    "display( df5.sort_values(\"% Delta GDP\", ascending=False)) \n",
    "print(\"\\n\" + color.BLUE + \"2000-2015 % Delta LEABY,by Country:\" + color.END+ \"\\n\")\n",
    "display(df5.sort_values(\"% Delta LEABY\", ascending=False)) "
   ]
  },
  {
   "cell_type": "markdown",
   "metadata": {},
   "source": [
    "Between the years 2000-2015, Mexico has seen the least increase in GDP by 68.54%."
   ]
  },
  {
   "cell_type": "markdown",
   "metadata": {},
   "source": [
    "#### How do countries compare to one another?"
   ]
  },
  {
   "cell_type": "markdown",
   "metadata": {},
   "source": [
    "Developed countries like Germany and USA do not show a strong positive relationship between magnitudes of GDP and life expectancy. Germany, with a GDP of an order of magnitude less than USA, has a higher life expectancy. China has the second largest GDP in 2015 and yet lags behind in life expectancy behind all countries except Zimbabwe.  However, all countires except Zimbabwe show a postive but with dimishing returns relationship between change in GDP and change in life expectancy. Zimbabwe is an outlier in comparisons with the other countires.   "
   ]
  },
  {
   "cell_type": "markdown",
   "metadata": {},
   "source": [
    "#### Now that you can see the both bar charts, what do you think about the relationship between GDP and life expectancy?"
   ]
  },
  {
   "cell_type": "markdown",
   "metadata": {},
   "source": [
    "The data seems to support that lower values of life expectancy are more sensetive to changes in GDP. "
   ]
  },
  {
   "cell_type": "markdown",
   "metadata": {},
   "source": [
    "#### Can you think of any reasons that the data looks like this for particular countries?"
   ]
  },
  {
   "cell_type": "markdown",
   "metadata": {},
   "source": [
    "China is the most populous nations in the world"
   ]
  },
  {
   "cell_type": "markdown",
   "metadata": {},
   "source": [
    "## Step 8: Scatter Plots of GDP and Life Expectancy Data"
   ]
  },
  {
   "cell_type": "markdown",
   "metadata": {},
   "source": [
    "To create a visualization that will make it easier to see the possible correlation between GDP and life expectancy, you can plot each set of data on its own subplot, on a shared figure.\n",
    "\n",
    "To create multiple plots for comparison, Seaborn has a special (function)[https://seaborn.pydata.org/generated/seaborn.FacetGrid.html] called FacetGrid. A FacetGrid takes in a function and creates an individual graph for which you specify the arguments!\n",
    "\n",
    "Since this may be the first time you've learned about FacetGrid, we have prepped a fill in the blank code snippet below. Here are the instructors to fill in the blanks from the commented word bank:\n",
    "\n",
    "    In this graph, we want GDP on the X axis and Life Expectancy on the Y axis.\n",
    "    We want the columns to be split up for every Year in the data\n",
    "    We want the data points to be differentiated (hue) by Country.\n",
    "    We want to use a Matplotlib scatter plot to visualize the different graphs\n",
    "\n",
    "Be sure to show your plot!\n"
   ]
  },
  {
   "cell_type": "code",
   "execution_count": 89,
   "metadata": {
    "ExecuteTime": {
     "end_time": "2020-06-06T13:30:14.659697Z",
     "start_time": "2020-06-06T13:30:09.468498Z"
    }
   },
   "outputs": [
    {
     "data": {
      "image/png": "[encoded data removed]",
      "text/plain": [
       "<Figure size 736.75x576 with 16 Axes>"
      ]
     },
     "metadata": {
      "needs_background": "light"
     },
     "output_type": "display_data"
    }
   ],
   "source": [
    "g = sns.FacetGrid(df, col='Year', hue='Country', col_wrap=4, height=2)\n",
    "g = (g.map(plt.scatter, 'GDP', 'LEABY', edgecolor=\"w\").add_legend())\n",
    "plt.subplots_adjust(top=0.9)\n",
    "g.fig.suptitle('LEABY vs GDP by Year and Country')\n",
    "plt.savefig(\"Scatter GDP vs LEABY by Year Country.png\")\n"
   ]
  },
  {
   "cell_type": "markdown",
   "metadata": {},
   "source": [
    "#### Which country moves the most along the X axis over the years?"
   ]
  },
  {
   "cell_type": "markdown",
   "metadata": {},
   "source": [
    "China shows the most movement aong the X axis. "
   ]
  },
  {
   "cell_type": "markdown",
   "metadata": {},
   "source": [
    "#### Which country moves the most along the Y axis over the years"
   ]
  },
  {
   "cell_type": "markdown",
   "metadata": {},
   "source": [
    "Zimbabwe shows the most movement along the Y axis. "
   ]
  },
  {
   "cell_type": "markdown",
   "metadata": {},
   "source": [
    "#### Is this surprising?"
   ]
  },
  {
   "cell_type": "markdown",
   "metadata": {},
   "source": [
    "China's and Zimbabwe's movement along the X and Y axises, respectively, is inline with the largest changes in GDP and life expectancy, respectively. "
   ]
  },
  {
   "cell_type": "markdown",
   "metadata": {},
   "source": [
    "## Step 9: Line Plots for Life Expectancy "
   ]
  },
  {
   "cell_type": "markdown",
   "metadata": {},
   "source": [
    "In the scatter plot grid above, it was hard to isolate the change for GDP and Life expectancy over time. It would be better illustrated with a line graph for each GDP and Life Expectancy by country.\n",
    "\n",
    "FacetGrid also allows you to do that! Instead of passing in plt.scatter as your Matplotlib function, you would have to pass in plt.plot to see a line graph. A few other things have to change as well. So we have created a different codesnippets with fill in the blanks. that makes use of a line chart, and we will make two seperate FacetGrids for both GDP and Life Expectancy separately.\n",
    "\n",
    "Here are the instructors to fill in the blanks from the commented word bank:\n",
    "\n",
    "    In this graph, we want Years on the X axis and Life Expectancy on the Y axis.\n",
    "    We want the columns to be split up by Country\n",
    "    We want to use a Matplotlib line plot to visualize the different graphs\n",
    "\n",
    "Be sure to show your plot!\n"
   ]
  },
  {
   "cell_type": "code",
   "execution_count": 90,
   "metadata": {
    "ExecuteTime": {
     "end_time": "2020-06-06T13:30:16.504468Z",
     "start_time": "2020-06-06T13:30:14.661693Z"
    }
   },
   "outputs": [
    {
     "data": {
      "image/png": "[encoded data removed]",
      "text/plain": [
       "<Figure size 872x576 with 6 Axes>"
      ]
     },
     "metadata": {
      "needs_background": "light"
     },
     "output_type": "display_data"
    }
   ],
   "source": [
    "g = sns.FacetGrid(df, col='Country', col_wrap=3, height=4)\n",
    "g = (g.map(plt.plot, 'Year', 'LEABY').add_legend())\n",
    "plt.subplots_adjust(top=0.9)\n",
    "g.fig.suptitle('LEABY vs Year by Country')\n",
    "plt.savefig(\"Line LEABY vs Year by Country.png\")"
   ]
  },
  {
   "cell_type": "markdown",
   "metadata": {},
   "source": [
    "#### Which countries' line changes the most?"
   ]
  },
  {
   "cell_type": "markdown",
   "metadata": {},
   "source": [
    "Zimbabwe has largest changes in life expectancy of all countries"
   ]
  },
  {
   "cell_type": "markdown",
   "metadata": {},
   "source": [
    "#### What years are there the biggest changes in the data?"
   ]
  },
  {
   "cell_type": "markdown",
   "metadata": {},
   "source": [
    "Zimbabwe shows the biggest negative change from 2000 to about 2005. Both Chile and Mexico also show a negative change from 2007 to approximately 2009, inline with the 2008 global recession. All the other countries show a consistent linear positive trend in life expectancy. "
   ]
  },
  {
   "cell_type": "markdown",
   "metadata": {},
   "source": [
    "#### Which country has had the least change in life expectancy over time?"
   ]
  },
  {
   "cell_type": "markdown",
   "metadata": {},
   "source": [
    "Mexico has the least change in life expectancy from 2000 to 2015. "
   ]
  },
  {
   "cell_type": "markdown",
   "metadata": {},
   "source": [
    "#### Can you think of any reasons that the data looks like this for particular countries?"
   ]
  },
  {
   "cell_type": "markdown",
   "metadata": {},
   "source": [
    "Zimbabwe has experienced and continues to experience hyper inflation in the 21st century. The effect on life expectancy is unclear as in the first 5 years of the data set shows a decline and then a consistent increase all while under the hyper inflation. All other countries have a linear trend. "
   ]
  },
  {
   "cell_type": "markdown",
   "metadata": {},
   "source": [
    "## Step 10: Line Plots for GDP"
   ]
  },
  {
   "cell_type": "markdown",
   "metadata": {},
   "source": [
    "Let's recreate the same FacetGrid for GDP now. Instead of Life Expectancy on the Y axis, we now we want GDP.\n",
    "\n",
    "Once you complete and successfully run the code above, copy and paste it into the cell below. Change the variable for the X axis. Change the color on your own! Be sure to show your plot.\n"
   ]
  },
  {
   "cell_type": "code",
   "execution_count": 91,
   "metadata": {
    "ExecuteTime": {
     "end_time": "2020-06-06T13:30:18.365593Z",
     "start_time": "2020-06-06T13:30:16.506462Z"
    },
    "scrolled": true
   },
   "outputs": [
    {
     "data": {
      "image/png": "[encoded data removed]",
      "text/plain": [
       "<Figure size 872x576 with 6 Axes>"
      ]
     },
     "metadata": {
      "needs_background": "light"
     },
     "output_type": "display_data"
    }
   ],
   "source": [
    "g = sns.FacetGrid(df, col='Country', col_wrap=3, height=4)\n",
    "g = (g.map(plt.plot, 'Year', 'GDP').add_legend())\n",
    "plt.subplots_adjust(top=0.9)\n",
    "g.fig.suptitle('GDP vs Year by Country')\n",
    "plt.savefig(\"Line GDP vs Year by Country.png\")"
   ]
  },
  {
   "cell_type": "markdown",
   "metadata": {
    "ExecuteTime": {
     "end_time": "2020-05-18T19:16:11.205266Z",
     "start_time": "2020-05-18T19:16:11.198259Z"
    }
   },
   "source": [
    "#### Which countries have the highest and lowest GDP?\n"
   ]
  },
  {
   "cell_type": "markdown",
   "metadata": {},
   "source": [
    "USA and Zimbabwe have the highest and lowest GDP, respectively. "
   ]
  },
  {
   "cell_type": "markdown",
   "metadata": {},
   "source": [
    "#### Which countries have the highest and lowest life expectancy?\n"
   ]
  },
  {
   "cell_type": "markdown",
   "metadata": {},
   "source": [
    "Germany and Zimbabawe have the highest and lowest life expectancy, respectively. "
   ]
  },
  {
   "cell_type": "markdown",
   "metadata": {},
   "source": [
    "## Step 11: Data Analysis"
   ]
  },
  {
   "cell_type": "markdown",
   "metadata": {},
   "source": [
    "#### Has life expectancy increased over time in the six nations?"
   ]
  },
  {
   "cell_type": "markdown",
   "metadata": {},
   "source": [
    "All nations show an increase in life expectancy."
   ]
  },
  {
   "cell_type": "markdown",
   "metadata": {},
   "source": [
    "####  Has GDP increased over time in the six nations?"
   ]
  },
  {
   "cell_type": "markdown",
   "metadata": {},
   "source": [
    "All nations show an increase in GDP. "
   ]
  },
  {
   "cell_type": "markdown",
   "metadata": {},
   "source": [
    "#### Is there a correlation between GDP and life expectancy of a country?"
   ]
  },
  {
   "cell_type": "code",
   "execution_count": 92,
   "metadata": {
    "ExecuteTime": {
     "end_time": "2020-06-06T13:30:19.472774Z",
     "start_time": "2020-06-06T13:30:18.366545Z"
    }
   },
   "outputs": [
    {
     "data": {
      "image/png": "[encoded data removed]",
      "text/plain": [
       "<Figure size 1080x720 with 1 Axes>"
      ]
     },
     "metadata": {
      "needs_background": "light"
     },
     "output_type": "display_data"
    },
    {
     "data": {
      "image/png": "[encoded data removed]",
      "text/plain": [
       "<Figure size 1080x720 with 1 Axes>"
      ]
     },
     "metadata": {
      "needs_background": "light"
     },
     "output_type": "display_data"
    }
   ],
   "source": [
    "f, ax = plt.subplots(figsize=(15,10))\n",
    "sns.scatterplot(data=df , x =\"GDP\", y =\"LEABY\", hue=\"Country\")\n",
    "plt.grid(axis='x', which='both', color='black', linestyle='-', linewidth=0.5)\n",
    "plt.subplots_adjust(top=0.9)\n",
    "f.suptitle('LEABY vs GDP by Country')\n",
    "plt.savefig(\"Scatter LEABY vs GDP by Country.png\")\n",
    "plt.show()\n",
    "f, ax2 = plt.subplots(figsize=(15,10))\n",
    "sns.scatterplot(data=df , x =\"GDP\", y =\"LEABY\", hue=\"Country\")\n",
    "ax2.set(xscale=\"log\")\n",
    "plt.grid(axis='x', which='both', color='black', linestyle='-', linewidth=0.5)\n",
    "plt.subplots_adjust(top=0.9)\n",
    "f.suptitle('LEABY vs log GDP by Country')\n",
    "plt.savefig(\"Scatter LEABY vs log GDP by Country.png\")\n",
    "plt.show()\n"
   ]
  },
  {
   "cell_type": "markdown",
   "metadata": {},
   "source": [
    "On initial inspection, all countires expect Zimbabwe and China show a linear correlation with varying postive slopes. As China's GDP surpassed 25'*'10^11 dollars, the trend has become more linear. "
   ]
  },
  {
   "cell_type": "markdown",
   "metadata": {},
   "source": [
    "####  What is the distribution of that life expectancy?"
   ]
  },
  {
   "cell_type": "code",
   "execution_count": 93,
   "metadata": {
    "ExecuteTime": {
     "end_time": "2020-06-06T13:30:19.845289Z",
     "start_time": "2020-06-06T13:30:19.477258Z"
    }
   },
   "outputs": [
    {
     "data": {
      "image/png": "[encoded data removed]",
      "text/plain": [
       "<Figure size 1080x720 with 1 Axes>"
      ]
     },
     "metadata": {
      "needs_background": "light"
     },
     "output_type": "display_data"
    }
   ],
   "source": [
    "sns.set_palette('Spectral')\n",
    "f, ax = plt.subplots(figsize=(15,10))\n",
    "sns.boxplot(data=df, x='Country', y='LEABY')\n",
    "plt.subplots_adjust(top=0.9)\n",
    "f.suptitle('LEABY vs Country')\n",
    "plt.savefig(\"Box LEABY vs Country.png\")\n"
   ]
  },
  {
   "cell_type": "markdown",
   "metadata": {},
   "source": [
    "## Step 12: Researching Data Context"
   ]
  },
  {
   "cell_type": "markdown",
   "metadata": {},
   "source": [
    "Based on the visualization, choose one part the data to research a little further so you can add some real world context to the visualization. You can choose anything you like, or use the example question below.\n",
    "\n",
    "What happened in China between in the past 10 years that increased the GDP so drastically?\n"
   ]
  },
  {
   "cell_type": "markdown",
   "metadata": {},
   "source": [
    "#### What happen in Zimbabwe in last 15 years that could help explain the unsual trends in the dataset?"
   ]
  },
  {
   "cell_type": "markdown",
   "metadata": {},
   "source": [
    "Zimbabwe is a very different country from the dataset provided by the WHO. Unlike the other countries, Zimbabwe is the only country from Africa and dramatically poorer. The first step would be to qualify the question's assertion that this is an unusual trend. Comparing to other country's LEABY from neighboring African countries, source https://ourworldindata.org/ in years:\n",
    "\n",
    "* Zambia - LEABY: 44.00 (Y2000) to 61.74 (Y2015)\n",
    "* Namibia - LEABY: 52.19 (Y2000) to 62.12 (Y2015)\n",
    "* Botswana - LEABY: 50.63 (Y2000) to 67.34 (Y2015)\n",
    "* South Africa - LEABY: 56.05 (Y2000) to 62.65(Y2015)\n",
    "* Mozambique - LEABY: 48.95 (Y2000) to 57.21 (Y2015)\n",
    "* **Zimbabwe - LEABY: 44.65 (Y2000) to 59.90 (Y2015)**\n",
    "\n",
    "Zimbabwe mirrors Zambia's upward trend, even surpassing Mozambique's expected life expectancy in 2015. However Zimbabwe continues to lag behind their neighboring countries, failing to surpass the expected life expectancy of 60 years. In general, African nations in this region have all seen large gains in expected life expectancy. \n",
    "\n",
    "Comparing to other country's GDP from neighboring African countries, source https://ourworldindata.org/ in (GBP):\n",
    "\n",
    "* Zambia - GDP: 2.38E+09 (Y2000) to 1.65E+10 (Y2014)\n",
    "* Namibia - GDP: 2.58+08 (Y2000) to 7.8E+09 (Y2014)\n",
    "* Botswana - GDP: 3.83E+08 (Y2000) to 9.65E+09 (Y2014)\n",
    "* South Africa - GDP: 9.01E+10 (Y2000) to 2.13E+11(Y2014)\n",
    "* Mozambique - GDP: 4.25E+09 (Y2000) to 1.03E+10 (Y2014)\n",
    "* **Zimbabwe - GDP: 4.42E+09 (Y2000) to 8.63E+09 (Y2014)**\n",
    "\n",
    "In 2000, Zimbabwe was only second to South Africa in terms of GDP in 2000. By 2014, Only Namibia had a marginally smaller GDP when compared to Zimbabwe. This should be taken in the context that all other neighboring countries have seen at least an order of magnitude increase in their nominal GDP. Zimbabwe has maintained its GDP in single digits of billions of pounds between 2000 and 2014. This suggests internal factors have contributed to Zimbabwe's GDP story.\n",
    "\n",
    "Between 2000 and 2014, the following factors were uniquely affecting Zimbabwe:\n",
    "\n",
    "  * aftermath of 1980s/1990s land reform program, lead to decline in exports and food production\n",
    "  * a sanctioned economy by western power, denying access to international markets \n",
    "  * a hyperinflation period between 2004-2009, dramatic weakening of Zimbabwe's currency\n",
    " \n",
    "The aforementioned factors unique to Zimbabwe all affect the economy and ordinary people's ability to access goods and services. These disruptions all explain the relatively poor GDP performance when compared to its neighbors.\n",
    "\n",
    "The neighboring African countries all support the previous assertion that lower values of life expectancy are more sensitive to changes in GDP."
   ]
  },
  {
   "cell_type": "markdown",
   "metadata": {},
   "source": [
    "## Step 13: Create Blog Post"
   ]
  },
  {
   "cell_type": "markdown",
   "metadata": {
    "ExecuteTime": {
     "end_time": "2020-05-18T19:25:41.602447Z",
     "start_time": "2020-05-18T19:25:41.586492Z"
    }
   },
   "source": [
    "Use the content you have created in this Jupyter notebook to create a blog post reflecting on this data. Include the following visuals in your blogpost:\n",
    "\n",
    "    The violin plot of the life expectancy distribution by country\n",
    "    The facet grid of scatter graphs mapping GDP as a function Life Expectancy by country\n",
    "    The facet grid of line graphs mapping GDP by country\n",
    "    The facet grid of line graphs mapping Life Expectancy by country\n",
    "\n",
    "We encourage you to spend some time customizing the color and style of your plots! Remember to use plt.savefig(\"filename.png\") to save your figures as a .png file.\n",
    "\n",
    "When authoring your blog post, here are a few guiding questions to guide your research and writing:\n",
    "\n",
    "    How do you think the histories and the cultural values of each country relate to its GDP and life expectancy?\n",
    "    What would have helped make the project data more reliable? What were the limitations of the dataset?\n",
    "    Which graphs better illustrate different relationships??\n",
    "\n"
   ]
  },
  {
   "cell_type": "markdown",
   "metadata": {
    "ExecuteTime": {
     "end_time": "2020-06-06T11:19:06.836288Z",
     "start_time": "2020-06-06T11:19:06.830305Z"
    }
   },
   "source": [
    "#### How do you think the histories and the cultural values of each country relate to its GDP and life expectancy?"
   ]
  },
  {
   "cell_type": "markdown",
   "metadata": {},
   "source": [
    "The histories of each country are very important considerations to put the GDP and life expectancy data in context. The dataset from the WHO has countries that are sanctioned and poor to world class and developed.  Countires like USA and Germany have a "
   ]
  },
  {
   "cell_type": "markdown",
   "metadata": {
    "ExecuteTime": {
     "end_time": "2020-06-06T11:19:49.467682Z",
     "start_time": "2020-06-06T11:19:49.462696Z"
    }
   },
   "source": [
    "#### What would have helped make the project data more reliable? What were the limitations of the dataset?"
   ]
  },
  {
   "cell_type": "markdown",
   "metadata": {},
   "source": [
    "The major limitations of the dataset are:\n",
    "\n",
    "* Sample size: Country\n",
    "\n",
    "The sample size of the population is very important in any analysis. In 2000 there are 230 countries and the sample size is only 6, 2.6% of all countries. By population for the year 2000, 28.57% is covered by the sample size. Ideally the sample size of countries would be higher to be able to account for the differences in countries. \n",
    "\n",
    "* Sample size: Timeline\n",
    "\n",
    "Overlap of nominal GDP numbers between countries by having longer timelines would aid the analysis. The dataset has nominal GDP overlap between China, Germany and Mexico. However these countries are very different from each other. \n",
    "\n",
    "* Selection Criteria: Countries\n",
    "\n",
    "The countries in the dataset are too diverse and too few in number to provide an accurate analysis. Adding more countries and grouping them with similar GDP per capital, Gini coefficient, government types and other factors would help reduce the noise from the data.\n",
    "\n",
    "* Variable: GDP\n",
    "\n",
    "GDP is a very board economic indicator that does not differentiate between a dollar spend on factors that actually contribute to life expectancy or not. Further a country with large populations will naturally have larger GDPs. GDP per capital would be a better metric of available GDP per person. \n",
    "\n",
    "\n",
    "The best analysis would have access to all country's GDP per capital and LEABY. Countries would be grouped based on geography, GDP per capital and the Gini coefficient. The goal \n",
    "\n",
    "\n",
    "\n"
   ]
  },
  {
   "cell_type": "markdown",
   "metadata": {},
   "source": [
    "#### Which graphs better illustrate different relationships??"
   ]
  },
  {
   "cell_type": "markdown",
   "metadata": {},
   "source": [
    "The violin plot is very useful in depicting the data distribution. \n",
    "Correlation between variables are best shown through a scatterplots. "
   ]
  },
  {
   "cell_type": "markdown",
   "metadata": {},
   "source": [
    "#### Conclusion"
   ]
  }
 ],
 "metadata": {
  "hide_input": false,
  "kernelspec": {
   "display_name": "Python 3",
   "language": "python",
   "name": "python3"
  },
  "language_info": {
   "codemirror_mode": {
    "name": "ipython",
    "version": 3
   },
   "file_extension": ".py",
   "mimetype": "text/x-python",
   "name": "python",
   "nbconvert_exporter": "python",
   "pygments_lexer": "ipython3",
   "version": "3.7.6"
  },
  "varInspector": {
   "cols": {
    "lenName": 16,
    "lenType": 16,
    "lenVar": 40
   },
   "kernels_config": {
    "python": {
     "delete_cmd_postfix": "",
     "delete_cmd_prefix": "del ",
     "library": "var_list.py",
     "varRefreshCmd": "print(var_dic_list())"
    },
    "r": {
     "delete_cmd_postfix": ") ",
     "delete_cmd_prefix": "rm(",
     "library": "var_list.r",
     "varRefreshCmd": "cat(var_dic_list()) "
    }
   },
   "types_to_exclude": [
    "module",
    "function",
    "builtin_function_or_method",
    "instance",
    "_Feature"
   ],
   "window_display": false
  }
 },
 "nbformat": 4,
 "nbformat_minor": 4
}
